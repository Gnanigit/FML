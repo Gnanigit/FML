{
  "nbformat": 4,
  "nbformat_minor": 0,
  "metadata": {
    "colab": {
      "provenance": [],
      "mount_file_id": "1YrJmvqdJfVZTxVtzSG-zcq-aYrI8xggy",
      "authorship_tag": "ABX9TyOLxcQK/OglwXZRjpNbWEcM",
      "include_colab_link": true
    },
    "kernelspec": {
      "name": "python3",
      "display_name": "Python 3"
    },
    "language_info": {
      "name": "python"
    }
  },
  "cells": [
    {
      "cell_type": "markdown",
      "metadata": {
        "id": "view-in-github",
        "colab_type": "text"
      },
      "source": [
        "<a href=\"https://colab.research.google.com/github/Gnanigit/FML/blob/main/Gnani's_sklearn.ipynb\" target=\"_parent\"><img src=\"https://colab.research.google.com/assets/colab-badge.svg\" alt=\"Open In Colab\"/></a>"
      ]
    },
    {
      "cell_type": "code",
      "source": [
        "#installing sk-learn\n",
        "pip install -U scikit-learn"
      ],
      "metadata": {
        "colab": {
          "base_uri": "https://localhost:8080/"
        },
        "id": "48BHYq9OFTz_",
        "outputId": "4d5cc5fb-ce4a-4d26-c5a4-2f9f1b1eefbf"
      },
      "execution_count": 1,
      "outputs": [
        {
          "output_type": "stream",
          "name": "stdout",
          "text": [
            "Looking in indexes: https://pypi.org/simple, https://us-python.pkg.dev/colab-wheels/public/simple/\n",
            "Requirement already satisfied: scikit-learn in /usr/local/lib/python3.9/dist-packages (1.2.1)\n",
            "Collecting scikit-learn\n",
            "  Downloading scikit_learn-1.2.2-cp39-cp39-manylinux_2_17_x86_64.manylinux2014_x86_64.whl (9.6 MB)\n",
            "\u001b[2K     \u001b[90m━━━━━━━━━━━━━━━━━━━━━━━━━━━━━━━━━━━━━━━━\u001b[0m \u001b[32m9.6/9.6 MB\u001b[0m \u001b[31m27.6 MB/s\u001b[0m eta \u001b[36m0:00:00\u001b[0m\n",
            "\u001b[?25hRequirement already satisfied: numpy>=1.17.3 in /usr/local/lib/python3.9/dist-packages (from scikit-learn) (1.22.4)\n",
            "Requirement already satisfied: joblib>=1.1.1 in /usr/local/lib/python3.9/dist-packages (from scikit-learn) (1.2.0)\n",
            "Requirement already satisfied: threadpoolctl>=2.0.0 in /usr/local/lib/python3.9/dist-packages (from scikit-learn) (3.1.0)\n",
            "Requirement already satisfied: scipy>=1.3.2 in /usr/local/lib/python3.9/dist-packages (from scikit-learn) (1.10.1)\n",
            "Installing collected packages: scikit-learn\n",
            "  Attempting uninstall: scikit-learn\n",
            "    Found existing installation: scikit-learn 1.2.1\n",
            "    Uninstalling scikit-learn-1.2.1:\n",
            "      Successfully uninstalled scikit-learn-1.2.1\n",
            "Successfully installed scikit-learn-1.2.2\n"
          ]
        }
      ]
    },
    {
      "cell_type": "code",
      "execution_count": 24,
      "metadata": {
        "colab": {
          "base_uri": "https://localhost:8080/"
        },
        "id": "o_8Q7ubBDbm5",
        "outputId": "a3363aa9-1000-490c-c447-8f6da9cc01c2"
      },
      "outputs": [
        {
          "output_type": "stream",
          "name": "stdout",
          "text": [
            "1)\n",
            "\n",
            "train_x = [4 5 3 2 1 6]\n",
            "train_y = [40 50 30 20 10 60]\n",
            "test_x = [7 9 8]\n",
            "test_y = [70 90 80]\n",
            "\n",
            "2) test_size :-\n",
            "\n",
            "train_x = [7 5 2 3]\n",
            "train_y = [70 50 20 30]\n",
            "test_x = [9 4 1 8 6]\n",
            "test_y = [90 40 10 80 60]\n",
            "\n",
            "3 default value of test_size:-\n",
            "\n",
            "train_x = [6 2 9 5 6 1 1 2 4 7 8 2 3 3 8]\n",
            "train_y = [60 20 90 50 60 10 10 20 40 70 80 20 30 30 80]\n",
            "test_x = [9 5 4 7 1]\n",
            "test_y = [90 50 40 70 10]\n"
          ]
        }
      ],
      "source": [
        "from sklearn.model_selection import train_test_split\n",
        "import numpy as np\n",
        "x=np.array([1,2,3,4,5,6,7,8,9])\n",
        "y=np.array([10,20,30,40,50,60,70,80,90])\n",
        "x1,x2,y1,y2=train_test_split(x,y)\n",
        "print(\"1)\\n\")\n",
        "print(\"train_x =\",x1)\n",
        "print(\"train_y =\",y1)\n",
        "print(\"test_x =\",x2)\n",
        "print(\"test_y =\",y2)\n",
        "\n",
        "print(\"\\n2) test_size :-\\n\")\n",
        "x1,x2,y1,y2=train_test_split(x,y,test_size=0.5)\n",
        "print(\"train_x =\",x1)\n",
        "print(\"train_y =\",y1)\n",
        "print(\"test_x =\",x2)\n",
        "print(\"test_y =\",y2)\n",
        "\n",
        "#defaul value of test_size=0.25\n",
        "print(\"\\n3 default value of test_size:-\\n\")\n",
        "x=np.array([1,2,3,4,5,6,7,8,9,1,2,3,4,5,6,7,8,9,1,2])\n",
        "y=np.array([10,20,30,40,50,60,70,80,90,10,20,30,40,50,60,70,80,90,10,20])\n",
        "x1,x2,y1,y2=train_test_split(x,y)\n",
        "print(\"train_x =\",x1)\n",
        "print(\"train_y =\",y1)\n",
        "print(\"test_x =\",x2)\n",
        "print(\"test_y =\",y2)"
      ]
    },
    {
      "cell_type": "code",
      "source": [
        "#random_state\n",
        "#popular value = 42\n",
        "x=np.array([1,2,3,4,5,6,7,8,9,1,2,3,4,5,6,7,8,9,1,2])\n",
        "y=np.array([10,20,30,40,50,60,70,80,90,10,20,30,40,50,60,70,80,90,10,20])\n",
        "x1,x2,y1,y2=train_test_split(x,y,random_state=0)\n",
        "print(\"train_x =\",x1)\n",
        "print(\"train_y =\",y1)\n",
        "print(\"test_x =\",x2)\n",
        "print(\"test_y =\",y2)"
      ],
      "metadata": {
        "colab": {
          "base_uri": "https://localhost:8080/"
        },
        "id": "wn738qK-L3bP",
        "outputId": "d542709a-4346-4dc0-a0ea-7b829fac2a12"
      },
      "execution_count": 25,
      "outputs": [
        {
          "output_type": "stream",
          "name": "stdout",
          "text": [
            "train_x = [9 7 5 5 3 6 6 1 8 8 3 4 1 7 4]\n",
            "train_y = [90 70 50 50 30 60 60 10 80 80 30 40 10 70 40]\n",
            "test_x = [1 2 2 9 2]\n",
            "test_y = [10 20 20 90 20]\n"
          ]
        }
      ]
    },
    {
      "cell_type": "code",
      "source": [
        "#stratify - it neutralizes the train and test datasets\n",
        "x=np.array([1,2,3,4,5,6,7,8,9,1,2,3,4,5,6,7,8,9,1,2])\n",
        "y=np.array([0,0,1,0,0,0,0,0,0,0,0,0,0,0,1,0,0,0,0,0])\n",
        "x1,x2,y1,y2=train_test_split(x,y,stratify=y)\n",
        "print(\"train_x =\",x1)\n",
        "print(\"train_y =\",y1)\n",
        "print(\"test_x =\",x2)\n",
        "print(\"test_y =\",y2)"
      ],
      "metadata": {
        "colab": {
          "base_uri": "https://localhost:8080/"
        },
        "id": "npNEhWG_Mm4h",
        "outputId": "70d5ac07-edaa-45d4-8f35-385108dc7e6f"
      },
      "execution_count": 34,
      "outputs": [
        {
          "output_type": "stream",
          "name": "stdout",
          "text": [
            "train_x = [1 7 3 1 3 6 8 9 5 2 2 5 9 4 8]\n",
            "train_y = [0 0 0 0 1 0 0 0 0 0 0 0 0 0 0]\n",
            "test_x = [2 6 7 4 1]\n",
            "test_y = [0 1 0 0 0]\n"
          ]
        }
      ]
    },
    {
      "cell_type": "code",
      "source": [
        "#mean_absolute_error\n",
        "import sklearn.metrics as sk\n",
        "y=np.array([1,2,3,4,5,6,7,8,9])\n",
        "y_cap=np.array([2,3,4,5,6,7,8,9,10])\n",
        "mae=sk.mean_absolute_error(y,y_cap)\n",
        "print(mae)"
      ],
      "metadata": {
        "colab": {
          "base_uri": "https://localhost:8080/"
        },
        "id": "L_R_3NAXQUbm",
        "outputId": "4b80f8b2-9007-44a9-c86c-4d14cdc18c03"
      },
      "execution_count": 48,
      "outputs": [
        {
          "output_type": "stream",
          "name": "stdout",
          "text": [
            "1.0\n"
          ]
        }
      ]
    },
    {
      "cell_type": "code",
      "source": [
        "#mean_squared_error\n",
        "y=np.array([1,2,3,4,5,6,7,8,9])\n",
        "y_cap=np.array([2,3,4,5,6,7,8,9,10])\n",
        "mse=sk.mean_squared_error(y,y_cap)\n",
        "print(mse)"
      ],
      "metadata": {
        "colab": {
          "base_uri": "https://localhost:8080/"
        },
        "id": "qDahygFzOPoQ",
        "outputId": "1b5bac51-871c-40ca-d2be-ce49cad697e7"
      },
      "execution_count": 47,
      "outputs": [
        {
          "output_type": "stream",
          "name": "stdout",
          "text": [
            "1.0\n"
          ]
        }
      ]
    },
    {
      "cell_type": "code",
      "source": [
        "#root_mean_squared_error\n",
        "y=np.array([1,2,3,4,5,6,7,8,9])\n",
        "y_cap=np.array([2,3,4,5,6,7,8,9,10])\n",
        "rmse=np.sqrt(sk.mean_squared_error(y,y_cap))\n",
        "print(rmse)"
      ],
      "metadata": {
        "colab": {
          "base_uri": "https://localhost:8080/"
        },
        "id": "FRs9gC99Qf-u",
        "outputId": "46a2bd25-eae8-4395-b8c5-db5dbca8e90f"
      },
      "execution_count": 46,
      "outputs": [
        {
          "output_type": "stream",
          "name": "stdout",
          "text": [
            "1.0\n"
          ]
        }
      ]
    },
    {
      "cell_type": "code",
      "source": [
        "#r2_score\n",
        "y=np.array([1,2,3,4,5,6,7,8,9])\n",
        "y_cap=np.array([2,3,4,5,6,7,8,9,10])\n",
        "r2_score=sk.r2_score(y,y_cap)\n",
        "print(r2_score)"
      ],
      "metadata": {
        "colab": {
          "base_uri": "https://localhost:8080/"
        },
        "id": "we3AiTZUQvU1",
        "outputId": "7ab87cb4-301d-4e8c-89e7-b9784593bec7"
      },
      "execution_count": 45,
      "outputs": [
        {
          "output_type": "stream",
          "name": "stdout",
          "text": [
            "0.85\n"
          ]
        }
      ]
    },
    {
      "cell_type": "code",
      "source": [
        "import pandas as pd\n",
        "df=pd.read_csv('/content/drive/MyDrive/tested.csv')\n",
        "print(df)\n"
      ],
      "metadata": {
        "colab": {
          "base_uri": "https://localhost:8080/"
        },
        "id": "qi0QBJKlSjft",
        "outputId": "1a49fb9b-1a65-48fc-b796-2f106f1e2813"
      },
      "execution_count": 43,
      "outputs": [
        {
          "output_type": "stream",
          "name": "stdout",
          "text": [
            "     PassengerId  Survived  Pclass  \\\n",
            "0            892         0       3   \n",
            "1            893         1       3   \n",
            "2            894         0       2   \n",
            "3            895         0       3   \n",
            "4            896         1       3   \n",
            "..           ...       ...     ...   \n",
            "413         1305         0       3   \n",
            "414         1306         1       1   \n",
            "415         1307         0       3   \n",
            "416         1308         0       3   \n",
            "417         1309         0       3   \n",
            "\n",
            "                                             Name     Sex   Age  SibSp  Parch  \\\n",
            "0                                Kelly, Mr. James    male  34.5      0      0   \n",
            "1                Wilkes, Mrs. James (Ellen Needs)  female  47.0      1      0   \n",
            "2                       Myles, Mr. Thomas Francis    male  62.0      0      0   \n",
            "3                                Wirz, Mr. Albert    male  27.0      0      0   \n",
            "4    Hirvonen, Mrs. Alexander (Helga E Lindqvist)  female  22.0      1      1   \n",
            "..                                            ...     ...   ...    ...    ...   \n",
            "413                            Spector, Mr. Woolf    male   NaN      0      0   \n",
            "414                  Oliva y Ocana, Dona. Fermina  female  39.0      0      0   \n",
            "415                  Saether, Mr. Simon Sivertsen    male  38.5      0      0   \n",
            "416                           Ware, Mr. Frederick    male   NaN      0      0   \n",
            "417                      Peter, Master. Michael J    male   NaN      1      1   \n",
            "\n",
            "                 Ticket      Fare Cabin Embarked  \n",
            "0                330911    7.8292   NaN        Q  \n",
            "1                363272    7.0000   NaN        S  \n",
            "2                240276    9.6875   NaN        Q  \n",
            "3                315154    8.6625   NaN        S  \n",
            "4               3101298   12.2875   NaN        S  \n",
            "..                  ...       ...   ...      ...  \n",
            "413           A.5. 3236    8.0500   NaN        S  \n",
            "414            PC 17758  108.9000  C105        C  \n",
            "415  SOTON/O.Q. 3101262    7.2500   NaN        S  \n",
            "416              359309    8.0500   NaN        S  \n",
            "417                2668   22.3583   NaN        C  \n",
            "\n",
            "[418 rows x 12 columns]\n"
          ]
        }
      ]
    },
    {
      "cell_type": "code",
      "source": [
        "#seperating target and features\n",
        "X=df.drop(labels='Survived',axis=1,inplace=False)\n",
        "print(X)\n",
        "Y=df['Survived']\n",
        "print(Y)"
      ],
      "metadata": {
        "colab": {
          "base_uri": "https://localhost:8080/"
        },
        "id": "-9ydg2y1S136",
        "outputId": "56738d08-1862-4da9-da5d-e717fbe7d195"
      },
      "execution_count": 52,
      "outputs": [
        {
          "output_type": "stream",
          "name": "stdout",
          "text": [
            "     PassengerId  Pclass                                          Name  \\\n",
            "0            892       3                              Kelly, Mr. James   \n",
            "1            893       3              Wilkes, Mrs. James (Ellen Needs)   \n",
            "2            894       2                     Myles, Mr. Thomas Francis   \n",
            "3            895       3                              Wirz, Mr. Albert   \n",
            "4            896       3  Hirvonen, Mrs. Alexander (Helga E Lindqvist)   \n",
            "..           ...     ...                                           ...   \n",
            "413         1305       3                            Spector, Mr. Woolf   \n",
            "414         1306       1                  Oliva y Ocana, Dona. Fermina   \n",
            "415         1307       3                  Saether, Mr. Simon Sivertsen   \n",
            "416         1308       3                           Ware, Mr. Frederick   \n",
            "417         1309       3                      Peter, Master. Michael J   \n",
            "\n",
            "        Sex   Age  SibSp  Parch              Ticket      Fare Cabin Embarked  \n",
            "0      male  34.5      0      0              330911    7.8292   NaN        Q  \n",
            "1    female  47.0      1      0              363272    7.0000   NaN        S  \n",
            "2      male  62.0      0      0              240276    9.6875   NaN        Q  \n",
            "3      male  27.0      0      0              315154    8.6625   NaN        S  \n",
            "4    female  22.0      1      1             3101298   12.2875   NaN        S  \n",
            "..      ...   ...    ...    ...                 ...       ...   ...      ...  \n",
            "413    male   NaN      0      0           A.5. 3236    8.0500   NaN        S  \n",
            "414  female  39.0      0      0            PC 17758  108.9000  C105        C  \n",
            "415    male  38.5      0      0  SOTON/O.Q. 3101262    7.2500   NaN        S  \n",
            "416    male   NaN      0      0              359309    8.0500   NaN        S  \n",
            "417    male   NaN      1      1                2668   22.3583   NaN        C  \n",
            "\n",
            "[418 rows x 11 columns]\n",
            "0      0\n",
            "1      1\n",
            "2      0\n",
            "3      0\n",
            "4      1\n",
            "      ..\n",
            "413    0\n",
            "414    1\n",
            "415    0\n",
            "416    0\n",
            "417    0\n",
            "Name: Survived, Length: 418, dtype: int64\n"
          ]
        }
      ]
    },
    {
      "cell_type": "code",
      "source": [
        "mae=sk.mean_absolute_error(Y,Y)\n",
        "print(mae)"
      ],
      "metadata": {
        "colab": {
          "base_uri": "https://localhost:8080/"
        },
        "id": "MnETfF_QVCeG",
        "outputId": "46cdf57a-3360-4397-af90-2bf7fc673097"
      },
      "execution_count": 54,
      "outputs": [
        {
          "output_type": "stream",
          "name": "stdout",
          "text": [
            "0.0\n"
          ]
        }
      ]
    },
    {
      "cell_type": "code",
      "source": [
        "mse=sk.mean_squared_error(Y,Y)\n",
        "print(mse)"
      ],
      "metadata": {
        "colab": {
          "base_uri": "https://localhost:8080/"
        },
        "id": "DQya1k9bVhpL",
        "outputId": "084764be-cefe-44f8-f5e4-aecf235fe737"
      },
      "execution_count": 55,
      "outputs": [
        {
          "output_type": "stream",
          "name": "stdout",
          "text": [
            "0.0\n"
          ]
        }
      ]
    },
    {
      "cell_type": "code",
      "source": [
        "rmse=np.sqrt(sk.mean_squared_error(Y,Y))\n",
        "print(rmse)"
      ],
      "metadata": {
        "colab": {
          "base_uri": "https://localhost:8080/"
        },
        "id": "ZzDRtRBSUt6I",
        "outputId": "59a32fe0-85b3-460c-916f-786d704e3476"
      },
      "execution_count": 53,
      "outputs": [
        {
          "output_type": "stream",
          "name": "stdout",
          "text": [
            "0.0\n"
          ]
        }
      ]
    },
    {
      "cell_type": "code",
      "source": [
        "r2_score=sk.r2_score(Y,Y)\n",
        "print(r2_score)"
      ],
      "metadata": {
        "colab": {
          "base_uri": "https://localhost:8080/"
        },
        "id": "IDmo7-JwV5i-",
        "outputId": "5d304400-1a6b-427b-a2ee-6127dba57e87"
      },
      "execution_count": 57,
      "outputs": [
        {
          "output_type": "stream",
          "name": "stdout",
          "text": [
            "1.0\n"
          ]
        }
      ]
    }
  ]
}