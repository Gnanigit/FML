{
  "nbformat": 4,
  "nbformat_minor": 0,
  "metadata": {
    "colab": {
      "provenance": [],
      "authorship_tag": "ABX9TyOMmH1A3fp4134IIvG8Se6x",
      "include_colab_link": true
    },
    "kernelspec": {
      "name": "python3",
      "display_name": "Python 3"
    },
    "language_info": {
      "name": "python"
    }
  },
  "cells": [
    {
      "cell_type": "markdown",
      "metadata": {
        "id": "view-in-github",
        "colab_type": "text"
      },
      "source": [
        "<a href=\"https://colab.research.google.com/github/Gnanigit/FML/blob/main/pucntuations_Removed.ipynb\" target=\"_parent\"><img src=\"https://colab.research.google.com/assets/colab-badge.svg\" alt=\"Open In Colab\"/></a>"
      ]
    },
    {
      "cell_type": "code",
      "execution_count": 4,
      "metadata": {
        "colab": {
          "base_uri": "https://localhost:8080/"
        },
        "id": "VVtrjxKEqVuU",
        "outputId": "c67ee12b-0c0d-4080-ed9a-b27ca2463e5c"
      },
      "outputs": [
        {
          "output_type": "stream",
          "name": "stdout",
          "text": [
            "punctuatuions removed :  ['Once ', 'there ', 'lived ', 'a ', 'greedy ', 'man ', 'in ', 'a ', 'small ', 'town ', 'He ', 'was ', 'very ', 'rich ', 'and ', 'he ', 'loved ', 'gold ', 'and ', 'all ', 'things ', 'fancy ', 'But ', 'he ', 'loved ', 'his ', 'daughter ', 'more ', 'than ', 'anything ', 'One ', 'day ', 'he ', 'chanced ', 'upon ', 'a ', 'fairy ', 'The ', 'fairy’s ', 'hair ', 'was ', 'caught ', 'in ', 'a ', 'few ', 'tree ', 'branches ', 'He ', 'helped ', 'her ', 'out ', 'but ', 'as ', 'his ', 'greediness ', 'took ', 'over ', 'he ', 'realised ', 'that ', 'he ', 'had ', 'an ', 'opportunity ', 'to ', 'become ', 'richer ', 'by ', 'asking ', 'for ', 'a ', 'wish ', 'in ', 'return ', 'by ', 'helping ', 'her ', 'out ', 'The ', 'fairy ', 'granted ', 'him ', 'a ', 'wish ', 'He ', 'said ', '“All ', 'that ', 'I ', 'touch ', 'should ', 'turn ', 'to ', 'gold” ', 'And ', 'his ', 'wish ', 'was ', 'granted ', 'by ', 'the ', 'grateful ']\n"
          ]
        }
      ],
      "source": [
        "# punctuation marks removal\n",
        "text = '''Once there lived a greedy man in a small town. (He was very rich, and he loved gold and all things fancy. But he loved his daughter more than anything. One day, he chanced upon a fairy. The fairy’s hair was caught in a few tree branches. He helped her out, but as his greediness took over, he realised that he had an opportunity to become richer by asking for a wish in return (by helping her out). The fairy granted him a wish. He said, “All that I touch should turn to gold.” And his wish was granted by the grateful fairy.'''\n",
        "pun_removed=[]\n",
        "a= ['!', '\"', '#', '$', '%', '&', \"'\", '(', ')', '*', '+', ',', '-', '.', '/', ':', ';', '<', '=', '>', '?', '@', '[', '\\\\', ']', '^', '_', '`', '{', '|', '}', '~']\n",
        "tokens = text.split()\n",
        "s=\"\"\n",
        "for i in text:\n",
        "  if i not in a:\n",
        "    s=s+i\n",
        "  if(i==\" \"):\n",
        "    pun_removed.append(s)\n",
        "    s=\"\"\n",
        "\n",
        "print(\"punctuatuions removed : \",pun_removed)\n"
      ]
    }
  ]
}