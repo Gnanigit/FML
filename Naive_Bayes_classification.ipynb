{
  "nbformat": 4,
  "nbformat_minor": 0,
  "metadata": {
    "colab": {
      "provenance": [],
      "authorship_tag": "ABX9TyNfyBZCPzlxldRXhbCna1MP",
      "include_colab_link": true
    },
    "kernelspec": {
      "name": "python3",
      "display_name": "Python 3"
    },
    "language_info": {
      "name": "python"
    }
  },
  "cells": [
    {
      "cell_type": "markdown",
      "metadata": {
        "id": "view-in-github",
        "colab_type": "text"
      },
      "source": [
        "<a href=\"https://colab.research.google.com/github/Gnanigit/FML/blob/main/Naive_Bayes_classification.ipynb\" target=\"_parent\"><img src=\"https://colab.research.google.com/assets/colab-badge.svg\" alt=\"Open In Colab\"/></a>"
      ]
    },
    {
      "cell_type": "code",
      "execution_count": 1,
      "metadata": {
        "id": "rkSh2ep_dlBZ"
      },
      "outputs": [],
      "source": [
        "#Feautures and labels\n",
        "weather=['Sunny','Sunny','Overcast','Rainy','Rainy','Rainy','Overcast','Sunny','Sunny','Rainy','Sunny','Overcast','Overcast','Rainy']\n",
        "temp=['Hot','Hot','Hot','Mild','Cool','Cool','Cool','Mild','Cool','Mild','Mild','Mild','Hot','Mild']\n",
        "play=['No','No','Yes','Yes','Yes','No','Yes','No','Yes','Yes','Yes','Yes','Yes','No']"
      ]
    },
    {
      "cell_type": "code",
      "source": [
        "# Import LabelEncoder\n",
        "from sklearn import preprocessing\n",
        "\n",
        "#creating labelEncoder\n",
        "le = preprocessing.LabelEncoder()\n",
        "\n",
        "# Converting string labels into numbers.\n",
        "weather_encoded=le.fit_transform(weather)\n",
        "  \n",
        "temp_encoded=le.fit_transform(temp)\n",
        "\n",
        "label=le.fit_transform(play)\n",
        "print(\"weather:\",weather_encoded)\n",
        "print(\"Temp:\",temp_encoded)\n",
        "print(\"Play:\",label)\n",
        "print(\"Temp:\",temp_encoded)\n",
        "     "
      ],
      "metadata": {
        "colab": {
          "base_uri": "https://localhost:8080/"
        },
        "id": "_aX5xIhreNzt",
        "outputId": "8ab7d851-7608-458a-83d6-1cd3e3fc6609"
      },
      "execution_count": 2,
      "outputs": [
        {
          "output_type": "stream",
          "name": "stdout",
          "text": [
            "weather: [2 2 0 1 1 1 0 2 2 1 2 0 0 1]\n",
            "Temp: [1 1 1 2 0 0 0 2 0 2 2 2 1 2]\n",
            "Play: [0 0 1 1 1 0 1 0 1 1 1 1 1 0]\n"
          ]
        }
      ]
    },
    {
      "cell_type": "code",
      "source": [
        "#type and shape of features\n",
        "print(type(weather_encoded), weather_encoded.shape)\n",
        "print(type(temp_encoded), temp_encoded.shape)\n",
        "print(type(label), label.shape)"
      ],
      "metadata": {
        "colab": {
          "base_uri": "https://localhost:8080/"
        },
        "id": "FOlzr_v4ektE",
        "outputId": "0a8611db-5704-4b6b-d4d2-0213b73adc8f"
      },
      "execution_count": 3,
      "outputs": [
        {
          "output_type": "stream",
          "name": "stdout",
          "text": [
            "<class 'numpy.ndarray'> (14,)\n",
            "<class 'numpy.ndarray'> (14,)\n",
            "<class 'numpy.ndarray'> (14,)\n"
          ]
        }
      ]
    },
    {
      "cell_type": "code",
      "source": [
        "import numpy as np\n",
        "#combining weather,temp and forming a matrix\n",
        "features = np.vstack((weather_encoded, temp_encoded)).T\n",
        "print(type(features),features.shape)\n",
        "print(features[0])"
      ],
      "metadata": {
        "colab": {
          "base_uri": "https://localhost:8080/"
        },
        "id": "VcH6pYqJfVnd",
        "outputId": "93de7b39-4a49-4131-d657-b9bd53e056c5"
      },
      "execution_count": 7,
      "outputs": [
        {
          "output_type": "stream",
          "name": "stdout",
          "text": [
            "<class 'numpy.ndarray'> (14, 2)\n",
            "[2 1]\n"
          ]
        }
      ]
    },
    {
      "cell_type": "code",
      "source": [
        "#Import Gaussian Naive Bayes model\n",
        "from sklearn.naive_bayes import GaussianNB\n",
        "\n",
        "#Create a Gaussian Classifier\n",
        "model = GaussianNB()\n",
        "print(\"Temp:\",temp_encoded)\n",
        "\n",
        "# Train the model using the training sets\n",
        "model.fit(features,label)\n",
        "\n",
        "w={0:\"rainy\",1:\"overcast\",2:\"sunny\"}\n",
        "t={0:\"cool\",1:\"hot\",2:\"mild\"}from sklearn.model_selection import train_test_split\n",
        "\n",
        "# Split dataset into training set and test set\n",
        "X_train, X_test, y_train, y_test = train_test_split(wine.data, wine.target, test_size=0.3,random_state=109)\n",
        "     \n",
        "\n",
        "#Import Gaussian Naive Bayes model\n",
        "from sklearn.naive_bayes import GaussianNB\n",
        "\n",
        "#Create a Gaussian Classifier\n",
        "gnb = GaussianNB()\n",
        "\n",
        "#Train the model using the training sets\n",
        "gnb.fit(X_train, y_train)\n",
        "\n",
        "#Predict the response for test dataset\n",
        "y_pred = gnb.predict(X_test)\n",
        "     \n",
        "\n",
        "#Import scikit-learn metrics module for accuracy calculation\n",
        "from sklearn import metrics\n",
        "\n",
        "# Model Accuracy, how often is the classifier correct?\n",
        "print(\"Accuracy:\",metrics.accuracy_score(y_test, y_pred))\n",
        "p={0:\"no\",1:\"yes\"}\n",
        "np.random.uniform(-1, 3)\n",
        "#Predict Output\n",
        "for i in range(0,14):\n",
        "  fir=np.random.randint(0, 3)\n",
        "  sec=np.random.randint(0, 3)\n",
        "  predicted= model.predict([[fir,sec]])\n",
        "  print(\"weather:\",w[fir])\n",
        "  print(\"temp:\",t[sec])\n",
        "  print(\"Predicted Value:\", p[predicted[0]])\n",
        "  print()"
      ],
      "metadata": {
        "colab": {
          "base_uri": "https://localhost:8080/"
        },
        "id": "DCFXIxqUgF0n",
        "outputId": "2b4cd222-77d9-42fa-cfc6-9d8fdb82820f"
      },
      "execution_count": 20,
      "outputs": [
        {
          "output_type": "stream",
          "name": "stdout",
          "text": [
            "Temp: [1 1 1 2 0 0 0 2 0 2 2 2 1 2]\n",
            "weather: overcast\n",
            "temp: hot\n",
            "Predicted Value: yes\n",
            "\n",
            "weather: rainy\n",
            "temp: hot\n",
            "Predicted Value: yes\n",
            "\n",
            "weather: rainy\n",
            "temp: hot\n",
            "Predicted Value: yes\n",
            "\n",
            "weather: rainy\n",
            "temp: hot\n",
            "Predicted Value: yes\n",
            "\n",
            "weather: sunny\n",
            "temp: cool\n",
            "Predicted Value: no\n",
            "\n",
            "weather: overcast\n",
            "temp: mild\n",
            "Predicted Value: yes\n",
            "\n",
            "weather: sunny\n",
            "temp: mild\n",
            "Predicted Value: no\n",
            "\n",
            "weather: rainy\n",
            "temp: cool\n",
            "Predicted Value: yes\n",
            "\n",
            "weather: rainy\n",
            "temp: cool\n",
            "Predicted Value: yes\n",
            "\n",
            "weather: overcast\n",
            "temp: mild\n",
            "Predicted Value: yes\n",
            "\n",
            "weather: rainy\n",
            "temp: cool\n",
            "Predicted Value: yes\n",
            "\n",
            "weather: sunny\n",
            "temp: cool\n",
            "Predicted Value: no\n",
            "\n",
            "weather: sunny\n",
            "temp: cool\n",
            "Predicted Value: no\n",
            "\n",
            "weather: sunny\n",
            "temp: mild\n",
            "Predicted Value: no\n",
            "\n"
          ]
        }
      ]
    },
    {
      "cell_type": "code",
      "source": [
        "#Naive Bayes Multi-class\n",
        "\n",
        "#Import scikit-learn dataset library\n",
        "from sklearn import datasets\n",
        "\n",
        "#Load dataset\n",
        "wine = datasets.load_wine()"
      ],
      "metadata": {
        "id": "SIIDD2-Jk0EJ"
      },
      "execution_count": 21,
      "outputs": []
    },
    {
      "cell_type": "code",
      "source": [
        "\n",
        "# print the names of the 13 features\n",
        "print(\"Features: \", wine.feature_names)\n",
        "\n",
        "# print the label type of wine(class_0, class_1, class_2)\n",
        "print(\"Labels: \", wine.target_names)"
      ],
      "metadata": {
        "colab": {
          "base_uri": "https://localhost:8080/"
        },
        "id": "rSjxWLNclJJf",
        "outputId": "b576d157-7b6b-44da-b03a-38f9b44133bf"
      },
      "execution_count": 22,
      "outputs": [
        {
          "output_type": "stream",
          "name": "stdout",
          "text": [
            "Features:  ['alcohol', 'malic_acid', 'ash', 'alcalinity_of_ash', 'magnesium', 'total_phenols', 'flavanoids', 'nonflavanoid_phenols', 'proanthocyanins', 'color_intensity', 'hue', 'od280/od315_of_diluted_wines', 'proline']\n",
            "Labels:  ['class_0' 'class_1' 'class_2']\n"
          ]
        }
      ]
    },
    {
      "cell_type": "code",
      "source": [
        "\n",
        "# print data(feature)shape\n",
        "wine.data.shape\n",
        "    \n",
        "\n",
        "wine.data[0]\n",
        "\n",
        "# print the wine labels (0:Class_0, 1:class_2, 2:class_2)\n",
        "wine.target\n"
      ],
      "metadata": {
        "colab": {
          "base_uri": "https://localhost:8080/"
        },
        "id": "K-JRVYrLlNzZ",
        "outputId": "270d2530-f21e-41ba-f660-56dd0ded5b93"
      },
      "execution_count": 23,
      "outputs": [
        {
          "output_type": "execute_result",
          "data": {
            "text/plain": [
              "array([0, 0, 0, 0, 0, 0, 0, 0, 0, 0, 0, 0, 0, 0, 0, 0, 0, 0, 0, 0, 0, 0,\n",
              "       0, 0, 0, 0, 0, 0, 0, 0, 0, 0, 0, 0, 0, 0, 0, 0, 0, 0, 0, 0, 0, 0,\n",
              "       0, 0, 0, 0, 0, 0, 0, 0, 0, 0, 0, 0, 0, 0, 0, 1, 1, 1, 1, 1, 1, 1,\n",
              "       1, 1, 1, 1, 1, 1, 1, 1, 1, 1, 1, 1, 1, 1, 1, 1, 1, 1, 1, 1, 1, 1,\n",
              "       1, 1, 1, 1, 1, 1, 1, 1, 1, 1, 1, 1, 1, 1, 1, 1, 1, 1, 1, 1, 1, 1,\n",
              "       1, 1, 1, 1, 1, 1, 1, 1, 1, 1, 1, 1, 1, 1, 1, 1, 1, 1, 1, 1, 2, 2,\n",
              "       2, 2, 2, 2, 2, 2, 2, 2, 2, 2, 2, 2, 2, 2, 2, 2, 2, 2, 2, 2, 2, 2,\n",
              "       2, 2, 2, 2, 2, 2, 2, 2, 2, 2, 2, 2, 2, 2, 2, 2, 2, 2, 2, 2, 2, 2,\n",
              "       2, 2])"
            ]
          },
          "metadata": {},
          "execution_count": 23
        }
      ]
    },
    {
      "cell_type": "code",
      "source": [
        "from sklearn.model_selection import train_test_split\n",
        "\n",
        "# Split dataset into training set and test set\n",
        "X_train, X_test, y_train, y_test = train_test_split(wine.data, wine.target, test_size=0.3,random_state=109)\n",
        "     \n",
        "\n",
        "#Import Gaussian Naive Bayes model\n",
        "from sklearn.naive_bayes import GaussianNB\n",
        "\n",
        "#Create a Gaussian Classifier\n",
        "gnb = GaussianNB()\n",
        "\n",
        "gnb.fit(X_train, y_train)\n",
        "\n",
        "y_pred = gnb.predict(X_test)\n",
        "\n",
        "   \n",
        "from sklearn import metrics\n",
        "\n",
        "# Model Accuracy\n",
        "print(\"Accuracy:\",metrics.accuracy_score(y_test, y_pred))"
      ],
      "metadata": {
        "colab": {
          "base_uri": "https://localhost:8080/"
        },
        "id": "eHxsCmn7ldkE",
        "outputId": "e53afee7-6581-4ca2-e90f-6e0982082dce"
      },
      "execution_count": 24,
      "outputs": [
        {
          "output_type": "stream",
          "name": "stdout",
          "text": [
            "Accuracy: 0.9074074074074074\n"
          ]
        }
      ]
    },
    {
      "cell_type": "code",
      "source": [
        "#Import Multinomial Naive Bayes model\n",
        "from sklearn.naive_bayes import MultinomialNB\n",
        "MNB= MultinomialNB()\n",
        "MNB.fit(X_train, y_train)\n",
        "y_pred = MNB.predict(X_test) \n",
        "print(\"Accuracy:\",metrics.accuracy_score(y_test, y_pred))"
      ],
      "metadata": {
        "colab": {
          "base_uri": "https://localhost:8080/"
        },
        "id": "2SlUQYO2mSHl",
        "outputId": "f70c851c-b2ec-4009-e64d-a84a8dd1206b"
      },
      "execution_count": 26,
      "outputs": [
        {
          "output_type": "stream",
          "name": "stdout",
          "text": [
            "Accuracy: 0.7962962962962963\n"
          ]
        }
      ]
    },
    {
      "cell_type": "code",
      "source": [
        "#Import Bernoulli Naive Bayes model\n",
        "from sklearn.naive_bayes import BernoulliNB\n",
        "BNB= BernoulliNB()\n",
        "BNB.fit(X_train, y_train)\n",
        "y_pred = BNB.predict(X_test) \n",
        "print(\"Accuracy:\",metrics.accuracy_score(y_test, y_pred))\n",
        "\n",
        "#Accuracy comparision between different Naive Bayes classifierMultinomial on the above dataset\n",
        "#Gaussian > Multinomial > Bernoulli"
      ],
      "metadata": {
        "colab": {
          "base_uri": "https://localhost:8080/"
        },
        "id": "c7YnYtZImupq",
        "outputId": "fd56b608-a663-4fc8-95ca-cf02f0f4df01"
      },
      "execution_count": 28,
      "outputs": [
        {
          "output_type": "stream",
          "name": "stdout",
          "text": [
            "Accuracy: 0.35185185185185186\n"
          ]
        }
      ]
    }
  ]
}